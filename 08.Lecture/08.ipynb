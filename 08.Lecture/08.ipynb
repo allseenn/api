{
 "cells": [
  {
   "cell_type": "markdown",
   "id": "da59bc60",
   "metadata": {},
   "source": [
    "## Titanic - Machine learining from disaster\n",
    "https://www.kaggle.com/c/titanic"
   ]
  },
  {
   "cell_type": "code",
   "execution_count": 1,
   "id": "44e2e122",
   "metadata": {},
   "outputs": [],
   "source": [
    "import pandas as pd\n",
    "import numpy as np"
   ]
  },
  {
   "cell_type": "code",
   "execution_count": 2,
   "id": "53afb80a",
   "metadata": {},
   "outputs": [],
   "source": [
    "df = pd.read_csv(\"train.csv\") # Загрузили датасет в память"
   ]
  },
  {
   "cell_type": "code",
   "execution_count": 3,
   "id": "b10e3b2a",
   "metadata": {},
   "outputs": [
    {
     "data": {
      "text/html": [
       "<div>\n",
       "<style scoped>\n",
       "    .dataframe tbody tr th:only-of-type {\n",
       "        vertical-align: middle;\n",
       "    }\n",
       "\n",
       "    .dataframe tbody tr th {\n",
       "        vertical-align: top;\n",
       "    }\n",
       "\n",
       "    .dataframe thead th {\n",
       "        text-align: right;\n",
       "    }\n",
       "</style>\n",
       "<table border=\"1\" class=\"dataframe\">\n",
       "  <thead>\n",
       "    <tr style=\"text-align: right;\">\n",
       "      <th></th>\n",
       "      <th>PassengerId</th>\n",
       "      <th>Survived</th>\n",
       "      <th>Pclass</th>\n",
       "      <th>Name</th>\n",
       "      <th>Sex</th>\n",
       "      <th>Age</th>\n",
       "      <th>SibSp</th>\n",
       "      <th>Parch</th>\n",
       "      <th>Ticket</th>\n",
       "      <th>Fare</th>\n",
       "      <th>Cabin</th>\n",
       "      <th>Embarked</th>\n",
       "    </tr>\n",
       "  </thead>\n",
       "  <tbody>\n",
       "    <tr>\n",
       "      <th>0</th>\n",
       "      <td>1</td>\n",
       "      <td>0</td>\n",
       "      <td>3</td>\n",
       "      <td>Braund, Mr. Owen Harris</td>\n",
       "      <td>male</td>\n",
       "      <td>22.0</td>\n",
       "      <td>1</td>\n",
       "      <td>0</td>\n",
       "      <td>A/5 21171</td>\n",
       "      <td>7.2500</td>\n",
       "      <td>NaN</td>\n",
       "      <td>S</td>\n",
       "    </tr>\n",
       "    <tr>\n",
       "      <th>1</th>\n",
       "      <td>2</td>\n",
       "      <td>1</td>\n",
       "      <td>1</td>\n",
       "      <td>Cumings, Mrs. John Bradley (Florence Briggs Th...</td>\n",
       "      <td>female</td>\n",
       "      <td>38.0</td>\n",
       "      <td>1</td>\n",
       "      <td>0</td>\n",
       "      <td>PC 17599</td>\n",
       "      <td>71.2833</td>\n",
       "      <td>C85</td>\n",
       "      <td>C</td>\n",
       "    </tr>\n",
       "    <tr>\n",
       "      <th>2</th>\n",
       "      <td>3</td>\n",
       "      <td>1</td>\n",
       "      <td>3</td>\n",
       "      <td>Heikkinen, Miss. Laina</td>\n",
       "      <td>female</td>\n",
       "      <td>26.0</td>\n",
       "      <td>0</td>\n",
       "      <td>0</td>\n",
       "      <td>STON/O2. 3101282</td>\n",
       "      <td>7.9250</td>\n",
       "      <td>NaN</td>\n",
       "      <td>S</td>\n",
       "    </tr>\n",
       "    <tr>\n",
       "      <th>3</th>\n",
       "      <td>4</td>\n",
       "      <td>1</td>\n",
       "      <td>1</td>\n",
       "      <td>Futrelle, Mrs. Jacques Heath (Lily May Peel)</td>\n",
       "      <td>female</td>\n",
       "      <td>35.0</td>\n",
       "      <td>1</td>\n",
       "      <td>0</td>\n",
       "      <td>113803</td>\n",
       "      <td>53.1000</td>\n",
       "      <td>C123</td>\n",
       "      <td>S</td>\n",
       "    </tr>\n",
       "    <tr>\n",
       "      <th>4</th>\n",
       "      <td>5</td>\n",
       "      <td>0</td>\n",
       "      <td>3</td>\n",
       "      <td>Allen, Mr. William Henry</td>\n",
       "      <td>male</td>\n",
       "      <td>35.0</td>\n",
       "      <td>0</td>\n",
       "      <td>0</td>\n",
       "      <td>373450</td>\n",
       "      <td>8.0500</td>\n",
       "      <td>NaN</td>\n",
       "      <td>S</td>\n",
       "    </tr>\n",
       "  </tbody>\n",
       "</table>\n",
       "</div>"
      ],
      "text/plain": [
       "   PassengerId  Survived  Pclass  \\\n",
       "0            1         0       3   \n",
       "1            2         1       1   \n",
       "2            3         1       3   \n",
       "3            4         1       1   \n",
       "4            5         0       3   \n",
       "\n",
       "                                                Name     Sex   Age  SibSp  \\\n",
       "0                            Braund, Mr. Owen Harris    male  22.0      1   \n",
       "1  Cumings, Mrs. John Bradley (Florence Briggs Th...  female  38.0      1   \n",
       "2                             Heikkinen, Miss. Laina  female  26.0      0   \n",
       "3       Futrelle, Mrs. Jacques Heath (Lily May Peel)  female  35.0      1   \n",
       "4                           Allen, Mr. William Henry    male  35.0      0   \n",
       "\n",
       "   Parch            Ticket     Fare Cabin Embarked  \n",
       "0      0         A/5 21171   7.2500   NaN        S  \n",
       "1      0          PC 17599  71.2833   C85        C  \n",
       "2      0  STON/O2. 3101282   7.9250   NaN        S  \n",
       "3      0            113803  53.1000  C123        S  \n",
       "4      0            373450   8.0500   NaN        S  "
      ]
     },
     "execution_count": 3,
     "metadata": {},
     "output_type": "execute_result"
    }
   ],
   "source": [
    "df.head(5) # Посмотрели на данные"
   ]
  },
  {
   "cell_type": "code",
   "execution_count": 4,
   "id": "abb360a8",
   "metadata": {},
   "outputs": [
    {
     "name": "stdout",
     "output_type": "stream",
     "text": [
      "<class 'pandas.core.frame.DataFrame'>\n",
      "RangeIndex: 891 entries, 0 to 890\n",
      "Data columns (total 12 columns):\n",
      " #   Column       Non-Null Count  Dtype  \n",
      "---  ------       --------------  -----  \n",
      " 0   PassengerId  891 non-null    int64  \n",
      " 1   Survived     891 non-null    int64  \n",
      " 2   Pclass       891 non-null    int64  \n",
      " 3   Name         891 non-null    object \n",
      " 4   Sex          891 non-null    object \n",
      " 5   Age          714 non-null    float64\n",
      " 6   SibSp        891 non-null    int64  \n",
      " 7   Parch        891 non-null    int64  \n",
      " 8   Ticket       891 non-null    object \n",
      " 9   Fare         891 non-null    float64\n",
      " 10  Cabin        204 non-null    object \n",
      " 11  Embarked     889 non-null    object \n",
      "dtypes: float64(2), int64(5), object(5)\n",
      "memory usage: 83.7+ KB\n"
     ]
    }
   ],
   "source": [
    "df.info() # Вывели тип данных по столбцам"
   ]
  },
  {
   "cell_type": "code",
   "execution_count": 5,
   "id": "63953b9a",
   "metadata": {},
   "outputs": [
    {
     "data": {
      "text/plain": [
       "PassengerId      0\n",
       "Survived         0\n",
       "Pclass           0\n",
       "Name             0\n",
       "Sex              0\n",
       "Age            177\n",
       "SibSp            0\n",
       "Parch            0\n",
       "Ticket           0\n",
       "Fare             0\n",
       "Cabin          687\n",
       "Embarked         2\n",
       "dtype: int64"
      ]
     },
     "execution_count": 5,
     "metadata": {},
     "output_type": "execute_result"
    }
   ],
   "source": [
    "df.isnull().sum() # Посчитали количество нулевых значений"
   ]
  },
  {
   "cell_type": "code",
   "execution_count": 6,
   "id": "27d8fade",
   "metadata": {},
   "outputs": [
    {
     "name": "stderr",
     "output_type": "stream",
     "text": [
      "/tmp/ipykernel_7148/1408274187.py:2: FutureWarning: A value is trying to be set on a copy of a DataFrame or Series through chained assignment using an inplace method.\n",
      "The behavior will change in pandas 3.0. This inplace method will never work because the intermediate object on which we are setting values always behaves as a copy.\n",
      "\n",
      "For example, when doing 'df[col].method(value, inplace=True)', try using 'df.method({col: value}, inplace=True)' or df[col] = df[col].method(value) instead, to perform the operation inplace on the original object.\n",
      "\n",
      "\n",
      "  df[\"Age\"].fillna(median_age, inplace=True) # Заполнили пропуски медианой\n"
     ]
    }
   ],
   "source": [
    "median_age = df[\"Age\"].median() # Вычислили медианное значение возраста\n",
    "df[\"Age\"].fillna(median_age, inplace=True) # Заполнили пропуски медианой"
   ]
  },
  {
   "cell_type": "code",
   "execution_count": 7,
   "id": "b1ee32e4",
   "metadata": {},
   "outputs": [
    {
     "name": "stderr",
     "output_type": "stream",
     "text": [
      "/tmp/ipykernel_7148/292838435.py:2: FutureWarning: A value is trying to be set on a copy of a DataFrame or Series through chained assignment using an inplace method.\n",
      "The behavior will change in pandas 3.0. This inplace method will never work because the intermediate object on which we are setting values always behaves as a copy.\n",
      "\n",
      "For example, when doing 'df[col].method(value, inplace=True)', try using 'df.method({col: value}, inplace=True)' or df[col] = df[col].method(value) instead, to perform the operation inplace on the original object.\n",
      "\n",
      "\n",
      "  df[\"Embarked\"].fillna(mode_embarked, inplace=True)  # Заполнили пропуски модой\n"
     ]
    }
   ],
   "source": [
    "mode_embarked = df[\"Embarked\"].mode()[0]  # Вычислили моду по столбцу Embarked\n",
    "df[\"Embarked\"].fillna(mode_embarked, inplace=True)  # Заполнили пропуски модой"
   ]
  },
  {
   "cell_type": "code",
   "execution_count": 8,
   "id": "42d201e3",
   "metadata": {},
   "outputs": [
    {
     "name": "stdout",
     "output_type": "stream",
     "text": [
      "<class 'pandas.core.frame.DataFrame'>\n",
      "RangeIndex: 891 entries, 0 to 890\n",
      "Data columns (total 12 columns):\n",
      " #   Column       Non-Null Count  Dtype  \n",
      "---  ------       --------------  -----  \n",
      " 0   PassengerId  891 non-null    int64  \n",
      " 1   Survived     891 non-null    int64  \n",
      " 2   Pclass       891 non-null    int64  \n",
      " 3   Name         891 non-null    object \n",
      " 4   Sex          891 non-null    object \n",
      " 5   Age          891 non-null    float64\n",
      " 6   SibSp        891 non-null    int64  \n",
      " 7   Parch        891 non-null    int64  \n",
      " 8   Ticket       891 non-null    object \n",
      " 9   Fare         891 non-null    float64\n",
      " 10  Cabin        204 non-null    object \n",
      " 11  Embarked     891 non-null    object \n",
      "dtypes: float64(2), int64(5), object(5)\n",
      "memory usage: 83.7+ KB\n"
     ]
    }
   ],
   "source": [
    "df.info()  # Проверили результат после внесенных  изменений"
   ]
  },
  {
   "cell_type": "code",
   "execution_count": 9,
   "id": "ef5346ad",
   "metadata": {},
   "outputs": [
    {
     "data": {
      "text/plain": [
       "0"
      ]
     },
     "execution_count": 9,
     "metadata": {},
     "output_type": "execute_result"
    }
   ],
   "source": [
    "df.duplicated().sum() # Посчитали количество дубликатов"
   ]
  },
  {
   "cell_type": "code",
   "execution_count": 10,
   "id": "5a765109",
   "metadata": {},
   "outputs": [],
   "source": [
    "# Если дубликаты есть, то удалим их\n",
    "dublicates = df[df.duplicated()] # Выделили дубликаты\n",
    "df.drop_duplicates(inplace=True) # Удалили дубликаты"
   ]
  },
  {
   "cell_type": "code",
   "execution_count": 11,
   "id": "7b681ddf",
   "metadata": {},
   "outputs": [
    {
     "name": "stderr",
     "output_type": "stream",
     "text": [
      "/tmp/ipykernel_7148/3506937013.py:2: FutureWarning: A value is trying to be set on a copy of a DataFrame or Series through chained assignment using an inplace method.\n",
      "The behavior will change in pandas 3.0. This inplace method will never work because the intermediate object on which we are setting values always behaves as a copy.\n",
      "\n",
      "For example, when doing 'df[col].method(value, inplace=True)', try using 'df.method({col: value}, inplace=True)' or df[col] = df[col].method(value) instead, to perform the operation inplace on the original object.\n",
      "\n",
      "\n",
      "  df[\"Sex\"].replace({\"male\": \"M\", \"female\": \"F\"}, inplace=True) # Заменили текстовые значения на числовые\n"
     ]
    }
   ],
   "source": [
    "# Трансформация данных на случай разных записей male, M, Male, Men etc.\n",
    "df[\"Sex\"].replace({\"male\": \"M\", \"female\": \"F\"}, inplace=True) # Заменили текстовые значения на числовые"
   ]
  },
  {
   "cell_type": "code",
   "execution_count": 12,
   "id": "07c1f2a5",
   "metadata": {},
   "outputs": [
    {
     "data": {
      "text/plain": [
       "Sex\n",
       "M    577\n",
       "F    314\n",
       "Name: count, dtype: int64"
      ]
     },
     "execution_count": 12,
     "metadata": {},
     "output_type": "execute_result"
    }
   ],
   "source": [
    "df[\"Sex\"].value_counts() # Посчитали количество мужчин и женщин"
   ]
  },
  {
   "cell_type": "code",
   "execution_count": 13,
   "id": "dc1c0726",
   "metadata": {},
   "outputs": [],
   "source": [
    "# Исправление отрицательных значений платы за проезд\n",
    "df[\"Fare\"] = df[\"Fare\"].abs() # Отрицательные значения заменили на положительные"
   ]
  },
  {
   "cell_type": "code",
   "execution_count": 14,
   "id": "cafc4d1f",
   "metadata": {},
   "outputs": [
    {
     "name": "stderr",
     "output_type": "stream",
     "text": [
      "/tmp/ipykernel_7148/1540617109.py:2: FutureWarning: A value is trying to be set on a copy of a DataFrame or Series through chained assignment using an inplace method.\n",
      "The behavior will change in pandas 3.0. This inplace method will never work because the intermediate object on which we are setting values always behaves as a copy.\n",
      "\n",
      "For example, when doing 'df[col].method(value, inplace=True)', try using 'df.method({col: value}, inplace=True)' or df[col] = df[col].method(value) instead, to perform the operation inplace on the original object.\n",
      "\n",
      "\n",
      "  df[\"Embarked\"].replace({\"C\": \"Cherbourg\", \"Q\": \"Queenstown\", \"S\": \"Southampton\"}, inplace=True) # Заменили текстовые значения на числовые\n"
     ]
    }
   ],
   "source": [
    "# Исправление несоответсвий в поле \"порт посадки\", заменим сокращения в названиях портов\n",
    "df[\"Embarked\"].replace({\"C\": \"Cherbourg\", \"Q\": \"Queenstown\", \"S\": \"Southampton\"}, inplace=True) # Заменили текстовые значения на числовые"
   ]
  },
  {
   "cell_type": "markdown",
   "id": "aee4077b",
   "metadata": {},
   "source": [
    "### Обработка категориальных данных"
   ]
  },
  {
   "cell_type": "code",
   "execution_count": 15,
   "id": "8c180e9a",
   "metadata": {},
   "outputs": [],
   "source": [
    "# One-hot encodiing для столбца \"пол\"\n",
    "df = pd.get_dummies(df, columns=[\"Sex\"]) # Добавили столбец \"M\" и удалили столбец \"Sex\""
   ]
  },
  {
   "cell_type": "code",
   "execution_count": 16,
   "id": "5a22c25e",
   "metadata": {},
   "outputs": [
    {
     "data": {
      "text/html": [
       "<div>\n",
       "<style scoped>\n",
       "    .dataframe tbody tr th:only-of-type {\n",
       "        vertical-align: middle;\n",
       "    }\n",
       "\n",
       "    .dataframe tbody tr th {\n",
       "        vertical-align: top;\n",
       "    }\n",
       "\n",
       "    .dataframe thead th {\n",
       "        text-align: right;\n",
       "    }\n",
       "</style>\n",
       "<table border=\"1\" class=\"dataframe\">\n",
       "  <thead>\n",
       "    <tr style=\"text-align: right;\">\n",
       "      <th></th>\n",
       "      <th>PassengerId</th>\n",
       "      <th>Survived</th>\n",
       "      <th>Pclass</th>\n",
       "      <th>Name</th>\n",
       "      <th>Age</th>\n",
       "      <th>SibSp</th>\n",
       "      <th>Parch</th>\n",
       "      <th>Ticket</th>\n",
       "      <th>Fare</th>\n",
       "      <th>Cabin</th>\n",
       "      <th>Embarked</th>\n",
       "      <th>Sex_F</th>\n",
       "      <th>Sex_M</th>\n",
       "    </tr>\n",
       "  </thead>\n",
       "  <tbody>\n",
       "    <tr>\n",
       "      <th>0</th>\n",
       "      <td>1</td>\n",
       "      <td>0</td>\n",
       "      <td>3</td>\n",
       "      <td>Braund, Mr. Owen Harris</td>\n",
       "      <td>22.0</td>\n",
       "      <td>1</td>\n",
       "      <td>0</td>\n",
       "      <td>A/5 21171</td>\n",
       "      <td>7.2500</td>\n",
       "      <td>NaN</td>\n",
       "      <td>Southampton</td>\n",
       "      <td>False</td>\n",
       "      <td>True</td>\n",
       "    </tr>\n",
       "    <tr>\n",
       "      <th>1</th>\n",
       "      <td>2</td>\n",
       "      <td>1</td>\n",
       "      <td>1</td>\n",
       "      <td>Cumings, Mrs. John Bradley (Florence Briggs Th...</td>\n",
       "      <td>38.0</td>\n",
       "      <td>1</td>\n",
       "      <td>0</td>\n",
       "      <td>PC 17599</td>\n",
       "      <td>71.2833</td>\n",
       "      <td>C85</td>\n",
       "      <td>Cherbourg</td>\n",
       "      <td>True</td>\n",
       "      <td>False</td>\n",
       "    </tr>\n",
       "    <tr>\n",
       "      <th>2</th>\n",
       "      <td>3</td>\n",
       "      <td>1</td>\n",
       "      <td>3</td>\n",
       "      <td>Heikkinen, Miss. Laina</td>\n",
       "      <td>26.0</td>\n",
       "      <td>0</td>\n",
       "      <td>0</td>\n",
       "      <td>STON/O2. 3101282</td>\n",
       "      <td>7.9250</td>\n",
       "      <td>NaN</td>\n",
       "      <td>Southampton</td>\n",
       "      <td>True</td>\n",
       "      <td>False</td>\n",
       "    </tr>\n",
       "    <tr>\n",
       "      <th>3</th>\n",
       "      <td>4</td>\n",
       "      <td>1</td>\n",
       "      <td>1</td>\n",
       "      <td>Futrelle, Mrs. Jacques Heath (Lily May Peel)</td>\n",
       "      <td>35.0</td>\n",
       "      <td>1</td>\n",
       "      <td>0</td>\n",
       "      <td>113803</td>\n",
       "      <td>53.1000</td>\n",
       "      <td>C123</td>\n",
       "      <td>Southampton</td>\n",
       "      <td>True</td>\n",
       "      <td>False</td>\n",
       "    </tr>\n",
       "    <tr>\n",
       "      <th>4</th>\n",
       "      <td>5</td>\n",
       "      <td>0</td>\n",
       "      <td>3</td>\n",
       "      <td>Allen, Mr. William Henry</td>\n",
       "      <td>35.0</td>\n",
       "      <td>0</td>\n",
       "      <td>0</td>\n",
       "      <td>373450</td>\n",
       "      <td>8.0500</td>\n",
       "      <td>NaN</td>\n",
       "      <td>Southampton</td>\n",
       "      <td>False</td>\n",
       "      <td>True</td>\n",
       "    </tr>\n",
       "  </tbody>\n",
       "</table>\n",
       "</div>"
      ],
      "text/plain": [
       "   PassengerId  Survived  Pclass  \\\n",
       "0            1         0       3   \n",
       "1            2         1       1   \n",
       "2            3         1       3   \n",
       "3            4         1       1   \n",
       "4            5         0       3   \n",
       "\n",
       "                                                Name   Age  SibSp  Parch  \\\n",
       "0                            Braund, Mr. Owen Harris  22.0      1      0   \n",
       "1  Cumings, Mrs. John Bradley (Florence Briggs Th...  38.0      1      0   \n",
       "2                             Heikkinen, Miss. Laina  26.0      0      0   \n",
       "3       Futrelle, Mrs. Jacques Heath (Lily May Peel)  35.0      1      0   \n",
       "4                           Allen, Mr. William Henry  35.0      0      0   \n",
       "\n",
       "             Ticket     Fare Cabin     Embarked  Sex_F  Sex_M  \n",
       "0         A/5 21171   7.2500   NaN  Southampton  False   True  \n",
       "1          PC 17599  71.2833   C85    Cherbourg   True  False  \n",
       "2  STON/O2. 3101282   7.9250   NaN  Southampton   True  False  \n",
       "3            113803  53.1000  C123  Southampton   True  False  \n",
       "4            373450   8.0500   NaN  Southampton  False   True  "
      ]
     },
     "execution_count": 16,
     "metadata": {},
     "output_type": "execute_result"
    }
   ],
   "source": [
    "df.head()"
   ]
  },
  {
   "cell_type": "code",
   "execution_count": 18,
   "id": "1a273d63",
   "metadata": {},
   "outputs": [],
   "source": [
    "# labe encoding для столбца  \"порт посадки\" и удаление столбца \"порт посадки\"\n",
    "from sklearn.preprocessing import LabelEncoder # Импортируем модуль для кодирования\n",
    "le = LabelEncoder() # Создали экземпляр класса\n",
    "df[\"Embarked\"] = le.fit_transform(df[\"Embarked\"].astype(str)) # Применили кодирование к столбцу \"порт посадки\""
   ]
  },
  {
   "cell_type": "code",
   "execution_count": 19,
   "id": "21c440ec",
   "metadata": {},
   "outputs": [
    {
     "data": {
      "text/html": [
       "<div>\n",
       "<style scoped>\n",
       "    .dataframe tbody tr th:only-of-type {\n",
       "        vertical-align: middle;\n",
       "    }\n",
       "\n",
       "    .dataframe tbody tr th {\n",
       "        vertical-align: top;\n",
       "    }\n",
       "\n",
       "    .dataframe thead th {\n",
       "        text-align: right;\n",
       "    }\n",
       "</style>\n",
       "<table border=\"1\" class=\"dataframe\">\n",
       "  <thead>\n",
       "    <tr style=\"text-align: right;\">\n",
       "      <th></th>\n",
       "      <th>PassengerId</th>\n",
       "      <th>Survived</th>\n",
       "      <th>Pclass</th>\n",
       "      <th>Name</th>\n",
       "      <th>Age</th>\n",
       "      <th>SibSp</th>\n",
       "      <th>Parch</th>\n",
       "      <th>Ticket</th>\n",
       "      <th>Fare</th>\n",
       "      <th>Cabin</th>\n",
       "      <th>Embarked</th>\n",
       "      <th>Sex_F</th>\n",
       "      <th>Sex_M</th>\n",
       "    </tr>\n",
       "  </thead>\n",
       "  <tbody>\n",
       "    <tr>\n",
       "      <th>0</th>\n",
       "      <td>1</td>\n",
       "      <td>0</td>\n",
       "      <td>3</td>\n",
       "      <td>Braund, Mr. Owen Harris</td>\n",
       "      <td>22.0</td>\n",
       "      <td>1</td>\n",
       "      <td>0</td>\n",
       "      <td>A/5 21171</td>\n",
       "      <td>7.2500</td>\n",
       "      <td>NaN</td>\n",
       "      <td>2</td>\n",
       "      <td>False</td>\n",
       "      <td>True</td>\n",
       "    </tr>\n",
       "    <tr>\n",
       "      <th>1</th>\n",
       "      <td>2</td>\n",
       "      <td>1</td>\n",
       "      <td>1</td>\n",
       "      <td>Cumings, Mrs. John Bradley (Florence Briggs Th...</td>\n",
       "      <td>38.0</td>\n",
       "      <td>1</td>\n",
       "      <td>0</td>\n",
       "      <td>PC 17599</td>\n",
       "      <td>71.2833</td>\n",
       "      <td>C85</td>\n",
       "      <td>0</td>\n",
       "      <td>True</td>\n",
       "      <td>False</td>\n",
       "    </tr>\n",
       "    <tr>\n",
       "      <th>2</th>\n",
       "      <td>3</td>\n",
       "      <td>1</td>\n",
       "      <td>3</td>\n",
       "      <td>Heikkinen, Miss. Laina</td>\n",
       "      <td>26.0</td>\n",
       "      <td>0</td>\n",
       "      <td>0</td>\n",
       "      <td>STON/O2. 3101282</td>\n",
       "      <td>7.9250</td>\n",
       "      <td>NaN</td>\n",
       "      <td>2</td>\n",
       "      <td>True</td>\n",
       "      <td>False</td>\n",
       "    </tr>\n",
       "    <tr>\n",
       "      <th>3</th>\n",
       "      <td>4</td>\n",
       "      <td>1</td>\n",
       "      <td>1</td>\n",
       "      <td>Futrelle, Mrs. Jacques Heath (Lily May Peel)</td>\n",
       "      <td>35.0</td>\n",
       "      <td>1</td>\n",
       "      <td>0</td>\n",
       "      <td>113803</td>\n",
       "      <td>53.1000</td>\n",
       "      <td>C123</td>\n",
       "      <td>2</td>\n",
       "      <td>True</td>\n",
       "      <td>False</td>\n",
       "    </tr>\n",
       "    <tr>\n",
       "      <th>4</th>\n",
       "      <td>5</td>\n",
       "      <td>0</td>\n",
       "      <td>3</td>\n",
       "      <td>Allen, Mr. William Henry</td>\n",
       "      <td>35.0</td>\n",
       "      <td>0</td>\n",
       "      <td>0</td>\n",
       "      <td>373450</td>\n",
       "      <td>8.0500</td>\n",
       "      <td>NaN</td>\n",
       "      <td>2</td>\n",
       "      <td>False</td>\n",
       "      <td>True</td>\n",
       "    </tr>\n",
       "  </tbody>\n",
       "</table>\n",
       "</div>"
      ],
      "text/plain": [
       "   PassengerId  Survived  Pclass  \\\n",
       "0            1         0       3   \n",
       "1            2         1       1   \n",
       "2            3         1       3   \n",
       "3            4         1       1   \n",
       "4            5         0       3   \n",
       "\n",
       "                                                Name   Age  SibSp  Parch  \\\n",
       "0                            Braund, Mr. Owen Harris  22.0      1      0   \n",
       "1  Cumings, Mrs. John Bradley (Florence Briggs Th...  38.0      1      0   \n",
       "2                             Heikkinen, Miss. Laina  26.0      0      0   \n",
       "3       Futrelle, Mrs. Jacques Heath (Lily May Peel)  35.0      1      0   \n",
       "4                           Allen, Mr. William Henry  35.0      0      0   \n",
       "\n",
       "             Ticket     Fare Cabin  Embarked  Sex_F  Sex_M  \n",
       "0         A/5 21171   7.2500   NaN         2  False   True  \n",
       "1          PC 17599  71.2833   C85         0   True  False  \n",
       "2  STON/O2. 3101282   7.9250   NaN         2   True  False  \n",
       "3            113803  53.1000  C123         2   True  False  \n",
       "4            373450   8.0500   NaN         2  False   True  "
      ]
     },
     "execution_count": 19,
     "metadata": {},
     "output_type": "execute_result"
    }
   ],
   "source": [
    "df.head()"
   ]
  },
  {
   "cell_type": "markdown",
   "id": "9930231a",
   "metadata": {},
   "source": [
    "### Обработка выбросов (outliers)\n",
    "Методы обработки выбросоов:\n",
    "\n",
    "1. удаление с помощью стат.методов (z-score, standart devidation, IQR, межквартильный размах)\n",
    "2. винсоризация (метод ближайших соседей, установка экстримальных значений по процентилям)\n",
    "3. преобразование данных (преобразование с помощью мат.функций, логарифмирование, корень квадратный)\n",
    "4. обработка выбросов как отсутсвующих значений  (медиана, мода, среднее арифметическое, межквартильный размах)"
   ]
  },
  {
   "cell_type": "markdown",
   "id": "3ee820a2",
   "metadata": {},
   "source": [
    "#### 1. Z-score\n",
    "\n",
    "расчитывается z-score для каждой точки данных, показывающий на сколько стандартных отклонений от среднего значения находится данная точка. Те точки которые в результате вычислений превышают заданный порог, считаются выборосами.\n",
    "Z-score вычисляется по формуле:\n",
    "$$z = \\frac{x - \\bar{x}}{\\sigma}$$\n",
    "где $x$ — значение, $\\bar{x}$ — среднее значение, $\\sigma$ — стандартное отклонение.\n",
    "Таким образом, если z-score для значения x больше 3, то оно считается выбросом. Если z-score для значения x меньше -3, то оно считается выбросом. Если z-score для значения x находится в промежутке от -3 до 3, то оно не является выбросом.\n"
   ]
  },
  {
   "cell_type": "code",
   "execution_count": 20,
   "id": "eeab7c6e",
   "metadata": {},
   "outputs": [],
   "source": [
    "from scipy import stats # Импортируем модуль для статистической обработки данных\n",
    "z = np.abs(stats.zscore(df[\"Fare\"])) # Вычислили z-оценку для столбца \"платы за проезд\""
   ]
  },
  {
   "cell_type": "code",
   "execution_count": 21,
   "id": "39bcbafb",
   "metadata": {},
   "outputs": [],
   "source": [
    "# Устанавливаем пороговое значение z-scores\n",
    "threshold = 3"
   ]
  },
  {
   "cell_type": "code",
   "execution_count": 22,
   "id": "641f71f1",
   "metadata": {},
   "outputs": [],
   "source": [
    "# Выявляем выбросы\n",
    "outliers = df[\"Fare\"][z > threshold] # Выявили выбросы"
   ]
  },
  {
   "cell_type": "code",
   "execution_count": 23,
   "id": "e504474f",
   "metadata": {},
   "outputs": [
    {
     "data": {
      "text/plain": [
       "32.204207968574636"
      ]
     },
     "execution_count": 23,
     "metadata": {},
     "output_type": "execute_result"
    }
   ],
   "source": [
    "df[\"Fare\"].mean(0) # Вычислили среднее значение платы за проезд"
   ]
  },
  {
   "cell_type": "code",
   "execution_count": 24,
   "id": "8fbcaef9",
   "metadata": {},
   "outputs": [
    {
     "data": {
      "text/plain": [
       "27     263.0000\n",
       "88     263.0000\n",
       "118    247.5208\n",
       "258    512.3292\n",
       "299    247.5208\n",
       "311    262.3750\n",
       "341    263.0000\n",
       "377    211.5000\n",
       "380    227.5250\n",
       "438    263.0000\n",
       "527    221.7792\n",
       "557    227.5250\n",
       "679    512.3292\n",
       "689    211.3375\n",
       "700    227.5250\n",
       "716    227.5250\n",
       "730    211.3375\n",
       "737    512.3292\n",
       "742    262.3750\n",
       "779    211.3375\n",
       "Name: Fare, dtype: float64"
      ]
     },
     "execution_count": 24,
     "metadata": {},
     "output_type": "execute_result"
    }
   ],
   "source": [
    "outliers # Вывели выбросы"
   ]
  },
  {
   "cell_type": "code",
   "execution_count": 26,
   "id": "e6574681",
   "metadata": {},
   "outputs": [],
   "source": [
    "# Замена выбросов на медианные знчения\n",
    "df.loc[z > threshold, \"Fare\"] = df[\"Fare\"].median() # Заменили выбросы на медианные значения"
   ]
  },
  {
   "cell_type": "code",
   "execution_count": 27,
   "id": "e7d46a86",
   "metadata": {},
   "outputs": [
    {
     "data": {
      "text/plain": [
       "26.25910482603816"
      ]
     },
     "execution_count": 27,
     "metadata": {},
     "output_type": "execute_result"
    }
   ],
   "source": [
    "df[\"Fare\"].mean() # Вычислили среднее значение платы за проезд"
   ]
  },
  {
   "cell_type": "markdown",
   "id": "f80600a6",
   "metadata": {},
   "source": [
    "#### 2. Winsorization (винсоризация)\n",
    "\n",
    "Поиск экстримальных значений на определенный перцентиль и их замена"
   ]
  },
  {
   "cell_type": "code",
   "execution_count": 32,
   "id": "7b6ab44b",
   "metadata": {},
   "outputs": [],
   "source": [
    "from scipy.stats.mstats import winsorize # Импортируем модуль для Winsorization"
   ]
  },
  {
   "cell_type": "code",
   "execution_count": 33,
   "id": "c55df5a9",
   "metadata": {},
   "outputs": [],
   "source": [
    "df[\"Fare\"] = winsorize(df[\"Fare\"], limits=[0.05, 0.05]) # Применили Winsorization к столбцу \"платы за проезд\""
   ]
  },
  {
   "cell_type": "code",
   "execution_count": 34,
   "id": "396a68f8",
   "metadata": {},
   "outputs": [
    {
     "data": {
      "text/plain": [
       "24.696483389450055"
      ]
     },
     "execution_count": 34,
     "metadata": {},
     "output_type": "execute_result"
    }
   ],
   "source": [
    "df[\"Fare\"].mean()"
   ]
  },
  {
   "cell_type": "markdown",
   "id": "ea0c4fca",
   "metadata": {},
   "source": [
    "#### 3. Преобразование данных с помощью математических функций\n",
    "\n",
    "##### Функция логарифма $\\log +1 \\pi$\n",
    "\n",
    "сжимает диапазон значений, уменьшая влияние выбросов\n",
    "\n"
   ]
  },
  {
   "cell_type": "code",
   "execution_count": 35,
   "id": "26629fa6",
   "metadata": {},
   "outputs": [],
   "source": [
    "df[\"Fare\"] = np.log1p(df[\"Fare\"]) # Применили логарифмирование к столбцу \"платы за проезд\" и занесли результат в новый столбец"
   ]
  },
  {
   "cell_type": "code",
   "execution_count": 36,
   "id": "13979a42",
   "metadata": {},
   "outputs": [
    {
     "data": {
      "text/plain": [
       "2.9203914579094272"
      ]
     },
     "execution_count": 36,
     "metadata": {},
     "output_type": "execute_result"
    }
   ],
   "source": [
    "df[\"Fare\"].mean() # Вычислили среднее значение платы за проезд"
   ]
  },
  {
   "cell_type": "code",
   "execution_count": 37,
   "id": "47ed7289",
   "metadata": {},
   "outputs": [
    {
     "data": {
      "text/plain": [
       "array([2.39789527, 3.04452244, 3.4339872 , 3.71357207, 3.93182563,\n",
       "       6.90875478])"
      ]
     },
     "execution_count": 37,
     "metadata": {},
     "output_type": "execute_result"
    }
   ],
   "source": [
    "# Отвлеченный пример на ценах\n",
    "prices = [10, 20, 30, 40, 50, 1000]\n",
    "np.log1p(prices) # Вычислили логарифмирование к столбцу \"платы за проезд\" и занесли результат в новый столбец"
   ]
  },
  {
   "cell_type": "markdown",
   "id": "17b6a09b",
   "metadata": {},
   "source": [
    "#### 4. Стандартизация данных\n",
    "\n",
    "Метод стандартизации применяется для преобразования значений в диапазоне от 0 до 1,\n",
    "где среднее значение равно 0, а стандартное отклонение равно 1\n",
    "\n",
    "Очень часто применяется в машинном обучении, из точки данных вычитают среднее значение и делят на стандартное отклонение"
   ]
  },
  {
   "cell_type": "code",
   "execution_count": 40,
   "id": "59397249",
   "metadata": {},
   "outputs": [],
   "source": [
    "from sklearn.preprocessing import StandardScaler # Импортируем модуль для стандартизации данных"
   ]
  },
  {
   "cell_type": "code",
   "execution_count": 42,
   "id": "a6e4574e",
   "metadata": {},
   "outputs": [
    {
     "name": "stdout",
     "output_type": "stream",
     "text": [
      "4.5 2.29128784747792\n",
      "[[-1.34164079 -1.34164079]\n",
      " [-0.4472136  -0.4472136 ]\n",
      " [ 0.4472136   0.4472136 ]\n",
      " [ 1.34164079  1.34164079]]\n",
      "0.0 1.0\n"
     ]
    }
   ],
   "source": [
    "# Отвлеченный пример\n",
    "data = np.array([[1, 2], [3, 4], [5, 6], [7, 8]]) # Создали массив с данными\n",
    "print(data.mean(), data.std()) # Вычислили среднее значение и стандартное отклонение\n",
    "scaler = StandardScaler() # Создали экземпляр класса\n",
    "scaled_data = scaler.fit_transform(data) # Применили стандартизацию к массиву с данными\n",
    "print(scaled_data)\n",
    "print(scaled_data.mean(), scaled_data.std()) # Вычислили среднее значение и стандартное отклонение"
   ]
  },
  {
   "cell_type": "code",
   "execution_count": null,
   "id": "e543b077",
   "metadata": {},
   "outputs": [],
   "source": []
  }
 ],
 "metadata": {
  "kernelspec": {
   "display_name": "Python 3 (ipykernel)",
   "language": "python",
   "name": "python3"
  },
  "language_info": {
   "codemirror_mode": {
    "name": "ipython",
    "version": 3
   },
   "file_extension": ".py",
   "mimetype": "text/x-python",
   "name": "python",
   "nbconvert_exporter": "python",
   "pygments_lexer": "ipython3",
   "version": "3.9.18"
  }
 },
 "nbformat": 4,
 "nbformat_minor": 5
}
